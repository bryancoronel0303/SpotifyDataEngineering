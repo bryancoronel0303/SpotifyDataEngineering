{
 "cells": [
  {
   "cell_type": "markdown",
   "id": "84c038f8",
   "metadata": {},
   "source": [
    "Import packages to make this a lot easier"
   ]
  },
  {
   "cell_type": "code",
   "execution_count": 7,
   "id": "241e7237",
   "metadata": {
    "scrolled": true
   },
   "outputs": [],
   "source": [
    "import sqlalchemy\n",
    "import pandas as pd\n",
    "from sqlalchemy.orm import sessionmaker\n",
    "import requests\n",
    "import json\n",
    "from datetime import datetime\n",
    "import datetime\n",
    "import sqlite3\n",
    "\n"
   ]
  },
  {
   "cell_type": "markdown",
   "id": "50ef526d",
   "metadata": {},
   "source": [
    "EXTRACTING THE RAW DATA USING WEB API, as json"
   ]
  },
  {
   "cell_type": "code",
   "execution_count": 8,
   "id": "9d1c3b67",
   "metadata": {},
   "outputs": [
    {
     "name": "stdout",
     "output_type": "stream",
     "text": [
      "{'error': {'status': 401, 'message': 'The access token expired'}}\n"
     ]
    }
   ],
   "source": [
    "# taken from documentation\n",
    "DATABASE_LOCATION = \"sqlite://my_played_tracks.sqlite\"\n",
    "# my spotify username\n",
    "USER_ID = \"bc0303\"\n",
    "# must be regenerated every 24 hours\n",
    "TOKEN = \"BQBFgKNhyUXIpE2G8xEPD7ItICAiyqN_Vz70Zx-eEJycpIsOvo0dUD073DFWPxYXmpezOMswI65AqA7icAtIxQ2QL1Z54xYNmqr6t4voQNhDsFD-5kCDHV8YbeTY7QnKiOVmzRI2o6s3hS4\"\n",
    "\n",
    "# spotify listening history object\n",
    "if __name__ == \"__main__\":\n",
    "    headers = {\"Accept\": \"application/json\", \"Content-Type\": \"application/json\",\n",
    "               \"Authorization\": \"Bearer {token}\".format(token=TOKEN)}\n",
    "# declaring variables that will be useful to me!\n",
    "today = datetime.datetime.now()\n",
    "yesterday = today - datetime.timedelta(days=1)\n",
    "yesterday_unix_timestamp = int(yesterday.timestamp())*1000\n",
    "# request \n",
    "r = requests.get(\"https://api.spotify.com/v1/me/player/recently-played?limit=10&after={time}\".format(\n",
    "    time=yesterday_unix_timestamp), headers=headers)\n",
    "data = r.json()\n",
    "# Look!\n",
    "print(data)"
   ]
  },
  {
   "cell_type": "markdown",
   "id": "0077cd17",
   "metadata": {},
   "source": [
    "TRANSFORMING THE DATA INTO READABLE VERSION"
   ]
  },
  {
   "cell_type": "code",
   "execution_count": 9,
   "id": "8b07ccba",
   "metadata": {},
   "outputs": [
    {
     "ename": "KeyError",
     "evalue": "'items'",
     "output_type": "error",
     "traceback": [
      "\u001b[0;31m---------------------------------------------------------------------------\u001b[0m",
      "\u001b[0;31mKeyError\u001b[0m                                  Traceback (most recent call last)",
      "\u001b[0;32m<ipython-input-9-f4527d93ca97>\u001b[0m in \u001b[0;36m<module>\u001b[0;34m\u001b[0m\n\u001b[1;32m      7\u001b[0m \u001b[0;34m\u001b[0m\u001b[0m\n\u001b[1;32m      8\u001b[0m \u001b[0;34m\u001b[0m\u001b[0m\n\u001b[0;32m----> 9\u001b[0;31m \u001b[0;32mfor\u001b[0m \u001b[0msong\u001b[0m \u001b[0;32min\u001b[0m \u001b[0mdata\u001b[0m\u001b[0;34m[\u001b[0m\u001b[0;34m\"items\"\u001b[0m\u001b[0;34m]\u001b[0m\u001b[0;34m:\u001b[0m\u001b[0;34m\u001b[0m\u001b[0;34m\u001b[0m\u001b[0m\n\u001b[0m\u001b[1;32m     10\u001b[0m     \u001b[0msong_names\u001b[0m\u001b[0;34m.\u001b[0m\u001b[0mappend\u001b[0m\u001b[0;34m(\u001b[0m\u001b[0msong\u001b[0m\u001b[0;34m[\u001b[0m\u001b[0;34m\"track\"\u001b[0m\u001b[0;34m]\u001b[0m\u001b[0;34m[\u001b[0m\u001b[0;34m\"name\"\u001b[0m\u001b[0;34m]\u001b[0m\u001b[0;34m)\u001b[0m\u001b[0;34m\u001b[0m\u001b[0;34m\u001b[0m\u001b[0m\n\u001b[1;32m     11\u001b[0m     \u001b[0martist_names\u001b[0m\u001b[0;34m.\u001b[0m\u001b[0mappend\u001b[0m\u001b[0;34m(\u001b[0m\u001b[0msong\u001b[0m\u001b[0;34m[\u001b[0m\u001b[0;34m\"track\"\u001b[0m\u001b[0;34m]\u001b[0m\u001b[0;34m[\u001b[0m\u001b[0;34m\"album\"\u001b[0m\u001b[0;34m]\u001b[0m\u001b[0;34m[\u001b[0m\u001b[0;34m\"artists\"\u001b[0m\u001b[0;34m]\u001b[0m\u001b[0;34m[\u001b[0m\u001b[0;36m0\u001b[0m\u001b[0;34m]\u001b[0m\u001b[0;34m[\u001b[0m\u001b[0;34m\"name\"\u001b[0m\u001b[0;34m]\u001b[0m\u001b[0;34m)\u001b[0m\u001b[0;34m\u001b[0m\u001b[0;34m\u001b[0m\u001b[0m\n",
      "\u001b[0;31mKeyError\u001b[0m: 'items'"
     ]
    }
   ],
   "source": [
    "# Extracting only the relevant bits of data from the json object      \n",
    "\n",
    "song_names = []\n",
    "artist_names = []\n",
    "played_at_list = []\n",
    "timestamps = []\n",
    "\n",
    "# make it look pretty!\n",
    "for song in data[\"items\"]:\n",
    "    song_names.append(song[\"track\"][\"name\"])\n",
    "    artist_names.append(song[\"track\"][\"album\"][\"artists\"][0][\"name\"])\n",
    "    played_at_list.append(song[\"played_at\"])\n",
    "    timestamps.append(song[\"played_at\"][0:10])\n",
    "        \n",
    "# Prepare a dictionary in order to turn it into a pandas dataframe below       \n",
    "song_dict = {\n",
    "     \"song_name\" : song_names,\n",
    "      \"artist_name\": artist_names,\n",
    "     \"played_at\" : played_at_list,\n",
    "     \"timestamp\" : timestamps\n",
    "  }\n",
    "\n",
    "song_df = pd.DataFrame(song_dict, columns = [\"song_name\", \"artist_name\", \"played_at\", \"timestamp\"])\n",
    "print(song_df)"
   ]
  },
  {
   "cell_type": "markdown",
   "id": "feac434e",
   "metadata": {},
   "source": [
    "VALIDATING THE DATA TO SEE THAT WE HAVE NO DUPLICATES OR ENCOUNTER SCENARIOS WE DON'T LIKE"
   ]
  },
  {
   "cell_type": "code",
   "execution_count": null,
   "id": "9817c755",
   "metadata": {},
   "outputs": [],
   "source": [
    "def check_if_valid_data(df: pd.DataFrame) -> bool:\n",
    "    # Check if dataframe is empty\n",
    "    if df.empty:\n",
    "        print(\"No songs downloaded. Finishing execution\")\n",
    "        return False \n",
    "\n",
    "    # Primary Key Check\n",
    "    if pd.Series(df['played_at']).is_unique:\n",
    "        pass\n",
    "    else:\n",
    "        raise Exception(\"Primary Key check is violated\")\n",
    "\n",
    "    # Check for nulls\n",
    "    if df.isnull().values.any():\n",
    "        raise Exception(\"Null values found\")\n",
    "\n",
    "    # Check that all timestamps are of yesterday's date\n",
    "    yesterday = datetime.datetime.now() - datetime.timedelta(days=1)\n",
    "    yesterday = yesterday.replace(hour=0, minute=0, second=0, microsecond=0)\n",
    "\n",
    "    timestamps = df[\"timestamp\"].tolist()\n",
    "    for timestamp in timestamps:\n",
    "        if datetime.datetime.strptime(timestamp, '%Y-%m-%d') != yesterday:\n",
    "            raise Exception(\"At least one of the returned songs does not have a yesterday's timestamp\")\n",
    "\n",
    "    return True"
   ]
  },
  {
   "cell_type": "markdown",
   "id": "dc8de148",
   "metadata": {},
   "source": [
    "RUNNING THE VALIDATION FUNCTION"
   ]
  },
  {
   "cell_type": "code",
   "execution_count": null,
   "id": "50a6e6b4",
   "metadata": {},
   "outputs": [],
   "source": [
    "# Validate\n",
    "if check_if_valid_data(song_df):\n",
    "    print(\"Data valid, proceed to Load stage\")"
   ]
  },
  {
   "cell_type": "markdown",
   "id": "7302a919",
   "metadata": {},
   "source": [
    "LOADING THE DATA INTO A SQL DATABASE"
   ]
  },
  {
   "cell_type": "code",
   "execution_count": null,
   "id": "a47ef2a5",
   "metadata": {},
   "outputs": [],
   "source": [
    "DATABASE_LOCATION = \"sqlite:///my_played_tracks.sqlite\"\n",
    "engine = sqlalchemy.create_engine(DATABASE_LOCATION)\n",
    "conn = sqlite3.connect('my_played_tracks.sqlite')\n",
    "cursor = conn.cursor()\n",
    "\n",
    "sql_query = \"\"\"\n",
    "    CREATE TABLE IF NOT EXISTS my_played_tracks(\n",
    "        song_name VARCHAR(200),\n",
    "        artist_name VARCHAR(200),\n",
    "        played_at VARCHAR(200),\n",
    "        timestamp VARCHAR(200),\n",
    "        CONSTRAINT primary_key_constraint PRIMARY KEY (played_at)\n",
    "    )\n",
    "    \"\"\"\n",
    "\n",
    "cursor.execute(sql_query)\n",
    "print(\"Opened database successfully\")\n",
    "\n",
    "try:\n",
    "        song_df.to_sql(\"my_played_tracks\", engine, index=False, if_exists='append')\n",
    "except:\n",
    "        print(\"Data already exists in the database\")\n",
    "\n",
    "conn.close()\n",
    "print(\"Close database successfully\")"
   ]
  },
  {
   "cell_type": "code",
   "execution_count": null,
   "id": "d33e7495",
   "metadata": {},
   "outputs": [],
   "source": []
  }
 ],
 "metadata": {
  "kernelspec": {
   "display_name": "Python 3",
   "language": "python",
   "name": "python3"
  },
  "language_info": {
   "codemirror_mode": {
    "name": "ipython",
    "version": 3
   },
   "file_extension": ".py",
   "mimetype": "text/x-python",
   "name": "python",
   "nbconvert_exporter": "python",
   "pygments_lexer": "ipython3",
   "version": "3.7.7"
  },
  "metadata": {
   "interpreter": {
    "hash": "8bbcddf798953173724554b673d615f39b75942d6eb14a39591956d531c8eca1"
   }
  }
 },
 "nbformat": 4,
 "nbformat_minor": 5
}
